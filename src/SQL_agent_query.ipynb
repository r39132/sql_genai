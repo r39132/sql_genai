{
 "cells": [
  {
   "cell_type": "code",
   "id": "initial_id",
   "metadata": {
    "collapsed": true,
    "ExecuteTime": {
     "end_time": "2025-02-17T05:55:53.972077Z",
     "start_time": "2025-02-17T05:55:53.916616Z"
    }
   },
   "source": [
    "\"\"\"initialize db connection and llm\"\"\"\n",
    "from langchain_community.utilities import SQLDatabase;\n",
    "\n",
    "from dotenv import load_dotenv\n",
    "import os\n",
    "\n",
    "load_dotenv()\n",
    "\n",
    "mysql_uri = 'mysql+mysqlconnector://{username}:{password}@{host}:{port}/{database}'\n",
    "db = SQLDatabase.from_uri(\n",
    "    mysql_uri.format(\n",
    "        username=os.getenv(\"MYSQL_USER\"),\n",
    "        password=os.getenv(\"MYSQL_PASS\"),\n",
    "        host=os.getenv(\"MYSQL_HOST\"),\n",
    "        port=os.getenv(\"MYSQL_PORT\"),\n",
    "        database=os.getenv(\"MYSQL_DBNAME\")\n",
    "    )\n",
    ")\n",
    "\n",
    "if not os.environ.get(\"OPENAI_API_KEY\"):\n",
    "    os.environ[\"OPENAI_API_KEY\"] = os.getenv(\"OPENAI_API_KEY\")\n",
    "\n",
    "from langchain_openai import ChatOpenAI\n",
    "\n",
    "llm = ChatOpenAI(model=\"gpt-4o-mini\", temperature=0.0)"
   ],
   "outputs": [],
   "execution_count": 6
  },
  {
   "metadata": {
    "ExecuteTime": {
     "end_time": "2025-02-17T05:55:54.004376Z",
     "start_time": "2025-02-17T05:55:53.975290Z"
    }
   },
   "cell_type": "code",
   "source": [
    "\"\"\"create agent\"\"\"\n",
    "from langchain_community.agent_toolkits import SQLDatabaseToolkit\n",
    "\n",
    "toolkit = SQLDatabaseToolkit(db=db, llm=llm)\n",
    "tools = toolkit.get_tools()"
   ],
   "id": "bd75c406168eaf69",
   "outputs": [],
   "execution_count": 7
  },
  {
   "metadata": {
    "ExecuteTime": {
     "end_time": "2025-02-17T05:55:54.224412Z",
     "start_time": "2025-02-17T05:55:54.011423Z"
    }
   },
   "cell_type": "code",
   "source": [
    "\"\"\"pull system prompt from community hub\"\"\"\n",
    "from langchain import hub\n",
    "\n",
    "prompt_template = hub.pull(\"langchain-ai/sql-agent-system-prompt\")\n",
    "assert len(prompt_template.messages) == 1\n",
    "prompt_template.messages[0].pretty_print()"
   ],
   "id": "cae9d592a210fd78",
   "outputs": [
    {
     "name": "stderr",
     "output_type": "stream",
     "text": [
      "/Users/jyothsnakullatira/PycharmProjects/play_with_llm_sql/.venv/lib/python3.11/site-packages/langsmith/client.py:253: LangSmithMissingAPIKeyWarning: API key must be provided when using hosted LangSmith API\n",
      "  warnings.warn(\n"
     ]
    },
    {
     "name": "stdout",
     "output_type": "stream",
     "text": [
      "================================\u001B[1m System Message \u001B[0m================================\n",
      "\n",
      "You are an agent designed to interact with a SQL database.\n",
      "Given an input question, create a syntactically correct \u001B[33;1m\u001B[1;3m{dialect}\u001B[0m query to run, then look at the results of the query and return the answer.\n",
      "Unless the user specifies a specific number of examples they wish to obtain, always limit your query to at most \u001B[33;1m\u001B[1;3m{top_k}\u001B[0m results.\n",
      "You can order the results by a relevant column to return the most interesting examples in the database.\n",
      "Never query for all the columns from a specific table, only ask for the relevant columns given the question.\n",
      "You have access to tools for interacting with the database.\n",
      "Only use the below tools. Only use the information returned by the below tools to construct your final answer.\n",
      "You MUST double check your query before executing it. If you get an error while executing a query, rewrite the query and try again.\n",
      "\n",
      "DO NOT make any DML statements (INSERT, UPDATE, DELETE, DROP etc.) to the database.\n",
      "\n",
      "To start you should ALWAYS look at the tables in the database to see what you can query.\n",
      "Do NOT skip this step.\n",
      "Then you should query the schema of the most relevant tables.\n"
     ]
    }
   ],
   "execution_count": 8
  },
  {
   "metadata": {
    "ExecuteTime": {
     "end_time": "2025-02-17T05:55:54.271039Z",
     "start_time": "2025-02-17T05:55:54.231730Z"
    }
   },
   "cell_type": "code",
   "source": [
    "\"\"\"initialize agent\"\"\"\n",
    "from langgraph.prebuilt import create_react_agent\n",
    "\n",
    "system_message = prompt_template.messages[0].format(dialect=db.dialect, top_k=10)\n",
    "graph = create_react_agent(llm, tools, prompt=system_message)"
   ],
   "id": "f02a82df8ee2442a",
   "outputs": [],
   "execution_count": 9
  },
  {
   "metadata": {
    "ExecuteTime": {
     "end_time": "2025-02-17T05:56:04.496719Z",
     "start_time": "2025-02-17T05:55:54.275822Z"
    }
   },
   "cell_type": "code",
   "source": [
    "\"\"\"ask a question / let's test the agent\"\"\"\n",
    "question = \"Which country's customers spent the most?\"\n",
    "latest_message = None\n",
    "for step in graph.stream({\"messages\": [{\"role\": \"user\", \"content\": question}]}, stream_mode=\"updates\"):\n",
    "    if 'agent' in step:\n",
    "        latest_message = step['agent'][\"messages\"][-1]\n",
    "latest_message.pretty_print()"
   ],
   "id": "e063de9209251ea5",
   "outputs": [
    {
     "name": "stdout",
     "output_type": "stream",
     "text": [
      "==================================\u001B[1m Ai Message \u001B[0m==================================\n",
      "\n",
      "The country whose customers spent the most is the **USA**, with a total spending of **$523.06**. Here are the top 10 countries by customer spending:\n",
      "\n",
      "1. **USA**: $523.06\n",
      "2. **Canada**: $303.96\n",
      "3. **France**: $195.10\n",
      "4. **Brazil**: $193.38\n",
      "5. **Germany**: $156.48\n",
      "6. **United Kingdom**: $112.86\n",
      "7. **Czech Republic**: $90.24\n",
      "8. **Portugal**: $77.24\n",
      "9. **India**: $75.26\n",
      "10. **Chile**: $46.62\n"
     ]
    }
   ],
   "execution_count": 10
  },
  {
   "metadata": {
    "ExecuteTime": {
     "end_time": "2025-02-17T05:56:15.556183Z",
     "start_time": "2025-02-17T05:56:04.510354Z"
    }
   },
   "cell_type": "code",
   "source": [
    "question = \"\"\"For the following query, if it requires drawing a table, reply as follows:\n",
    "            {\"table\": {\"columns\": [\"column1\", \"column2\", ...], \"data\": [[value1, value2, ...], [value1, value2, ...], ...]}}\n",
    "\n",
    "            If the query requires creating a bar chart, reply as follows:\n",
    "            {\"bar\": {\"columns\": [\"A\", \"B\", \"C\", ...], \"data\": [25, 24, 10, ...]}}\n",
    "\n",
    "            If the query requires creating a line chart, reply as follows:\n",
    "            {\"line\": {\"columns\": [\"A\", \"B\", \"C\", ...], \"data\": [25, 24, 10, ...]}}\n",
    "\n",
    "            There can only be two types of chart, \"bar\" and \"line\".\n",
    "\n",
    "            If it is just asking a question that requires neither, reply as follows:\n",
    "            {\"answer\": \"answer\"}\n",
    "            Example:\n",
    "            {\"answer\": \"The title with the highest rating is 'Gilead'\"}\"\n",
    "            If you do not know the answer, reply as follows:\n",
    "            {\"answer\": \"I do not know.\"}\n",
    "\n",
    "            Return all output as a string.\n",
    "\n",
    "            All strings in \"columns\" list and data list, should be in double quotes,\n",
    "\n",
    "            For example: {\"columns\": [\"title\", \"ratings_count\"], \"data\": [[\"Gilead\", 361], [\"Spider's Web\", 5164]]}\n",
    "\n",
    "            Lets think step by step.\n",
    "\n",
    "            Below is the query.\n",
    "            Query:\n",
    "            \"\"\" + \"For the best selling Artist, please tell me how many records were sold and where were the most records sold.\"\n",
    "latest_message = None\n",
    "for step in graph.stream({\"messages\": [{\"role\": \"user\", \"content\": question}]}, stream_mode=\"updates\"):\n",
    "    if 'agent' in step:\n",
    "        latest_message = step['agent'][\"messages\"][-1].content\n",
    "print(latest_message)"
   ],
   "id": "5e837a67db8e833a",
   "outputs": [
    {
     "name": "stdout",
     "output_type": "stream",
     "text": [
      "{\"table\": {\"columns\": [\"ArtistName\", \"TotalRecordsSold\", \"MostRecordsSoldCountry\"], \"data\": [[\"Iron Maiden\", 4, \"USA\"], [\"U2\", 4, \"France\"], [\"Led Zeppelin\", 4, \"USA\"], [\"Iron Maiden\", 3, \"Canada\"], [\"Ozzy Osbourne\", 3, \"France\"], [\"Deep Purple\", 2, \"United Kingdom\"], [\"Os Paralamas Do Sucesso\", 2, \"France\"], [\"Deep Purple\", 2, \"Canada\"], [\"Iron Maiden\", 2, \"France\"], [\"Miles Davis\", 2, \"Canada\"]]}}\n"
     ]
    }
   ],
   "execution_count": 11
  },
  {
   "metadata": {
    "ExecuteTime": {
     "end_time": "2025-02-17T05:56:15.567359Z",
     "start_time": "2025-02-17T05:56:15.564407Z"
    }
   },
   "cell_type": "code",
   "source": [
    "def ask_question(graph, question):\n",
    "    latest_message = None\n",
    "    for step in graph.stream({\"messages\": [{\"role\": \"user\", \"content\": question}]}, stream_mode=\"updates\"):\n",
    "        if 'agent' in step:\n",
    "            latest_message = step['agent'][\"messages\"][-1]\n",
    "    latest_message.pretty_print()"
   ],
   "id": "181a1c8a397aea17",
   "outputs": [],
   "execution_count": 12
  },
  {
   "metadata": {
    "ExecuteTime": {
     "end_time": "2025-02-17T05:56:27.944717Z",
     "start_time": "2025-02-17T05:56:15.583013Z"
    }
   },
   "cell_type": "code",
   "source": "ask_question(graph, \"Which artists have the longest albums? Please list each artist, their album and length\")",
   "id": "63f51cac3b6e848c",
   "outputs": [
    {
     "name": "stdout",
     "output_type": "stream",
     "text": [
      "==================================\u001B[1m Ai Message \u001B[0m==================================\n",
      "\n",
      "Here are the artists with the longest albums, along with the album titles and their lengths in milliseconds:\n",
      "\n",
      "1. **Artist:** Lost  \n",
      "   **Album:** Lost, Season 3  \n",
      "   **Length:** 70,665,582 ms\n",
      "\n",
      "2. **Artist:** Battlestar Galactica (Classic)  \n",
      "   **Album:** Battlestar Galactica (Classic), Season 1  \n",
      "   **Length:** 70,213,784 ms\n",
      "\n",
      "3. **Artist:** Lost  \n",
      "   **Album:** Lost, Season 1  \n",
      "   **Length:** 64,854,936 ms\n",
      "\n",
      "4. **Artist:** Lost  \n",
      "   **Album:** Lost, Season 2  \n",
      "   **Length:** 63,289,631 ms\n",
      "\n",
      "5. **Artist:** Heroes  \n",
      "   **Album:** Heroes, Season 1  \n",
      "   **Length:** 59,780,268 ms\n",
      "\n",
      "6. **Artist:** Battlestar Galactica  \n",
      "   **Album:** Battlestar Galactica, Season 3  \n",
      "   **Length:** 52,787,041 ms\n",
      "\n",
      "7. **Artist:** Lost  \n",
      "   **Album:** LOST, Season 4  \n",
      "   **Length:** 39,468,433 ms\n",
      "\n",
      "8. **Artist:** The Office  \n",
      "   **Album:** The Office, Season 3  \n",
      "   **Length:** 38,317,095 ms\n",
      "\n",
      "9. **Artist:** The Office  \n",
      "   **Album:** The Office, Season 2  \n",
      "   **Length:** 28,636,206 ms\n",
      "\n",
      "10. **Artist:** Lenny Kravitz  \n",
      "    **Album:** Greatest Hits  \n",
      "    **Length:** 15,065,731 ms\n",
      "\n",
      "If you need further details or a different query, feel free to ask!\n"
     ]
    }
   ],
   "execution_count": 13
  },
  {
   "metadata": {
    "ExecuteTime": {
     "end_time": "2025-02-17T05:56:38.933585Z",
     "start_time": "2025-02-17T05:56:27.964874Z"
    }
   },
   "cell_type": "code",
   "source": "ask_question(graph, \" Which artists have more than 2 albums? Order by greatest album count.\")",
   "id": "5c810c7fc938acad",
   "outputs": [
    {
     "name": "stdout",
     "output_type": "stream",
     "text": [
      "==================================\u001B[1m Ai Message \u001B[0m==================================\n",
      "\n",
      "Here are the artists who have more than 2 albums, ordered by the greatest album count:\n",
      "\n",
      "1. Iron Maiden - 21 albums\n",
      "2. Led Zeppelin - 14 albums\n",
      "3. Deep Purple - 11 albums\n",
      "4. Metallica - 10 albums\n",
      "5. U2 - 10 albums\n",
      "6. Ozzy Osbourne - 6 albums\n",
      "7. Pearl Jam - 5 albums\n",
      "8. Various Artists - 4 albums\n",
      "9. Van Halen - 4 albums\n",
      "10. Lost - 4 albums\n",
      "11. Faith No More - 4 albums\n",
      "12. Foo Fighters - 4 albums\n",
      "13. Audioslave - 3 albums\n",
      "14. Jamiroquai - 3 albums\n",
      "15. Os Paralamas Do Sucesso - 3 albums\n",
      "16. Guns N' Roses - 3 albums\n",
      "17. Miles Davis - 3 albums\n",
      "18. R.E.M. - 3 albums\n",
      "19. Red Hot Chili Peppers - 3 albums\n",
      "20. The Rolling Stones - 3 albums\n",
      "21. Santana - 3 albums\n",
      "22. Queen - 3 albums\n",
      "23. Gilberto Gil - 3 albums\n",
      "24. The Office - 3 albums\n",
      "25. Eugene Ormandy - 3 albums\n",
      "26. Berliner Philharmoniker & Herbert Von Karajan - 3 albums\n",
      "\n",
      "If you need more specific information or a different format, let me know!\n"
     ]
    }
   ],
   "execution_count": 14
  },
  {
   "metadata": {
    "ExecuteTime": {
     "end_time": "2025-02-17T05:56:38.946529Z",
     "start_time": "2025-02-17T05:56:38.945067Z"
    }
   },
   "cell_type": "code",
   "source": "",
   "id": "2bb8bc540afce4f5",
   "outputs": [],
   "execution_count": null
  },
  {
   "metadata": {
    "ExecuteTime": {
     "end_time": "2025-02-17T05:57:20.033010Z",
     "start_time": "2025-02-17T05:57:18.559207Z"
    }
   },
   "cell_type": "code",
   "source": [
    "import matplotlib.pyplot as plt\n",
    "\n",
    "# Data\n",
    "artists = ['Iron Maiden', 'Led Zeppelin', 'Deep Purple', 'Metallica', 'U2',\n",
    "           'Ozzy Osbourne', 'Pearl Jam', 'Lost', 'Faith No More', 'Various Artists']\n",
    "album_counts = [21, 14, 11, 10, 10, 6, 5, 4, 4, 4]\n",
    "\n",
    "# Create bar chart\n",
    "plt.figure(figsize=(10, 6))\n",
    "plt.barh(artists, album_counts, color='skyblue')\n",
    "plt.xlabel('Number of Albums')\n",
    "plt.title('Artists with the Largest Number of Albums')\n",
    "plt.gca().invert_yaxis()  # Invert y axis to have the artist with the most albums on top\n",
    "plt.show()"
   ],
   "id": "fac169ea766957fd",
   "outputs": [
    {
     "data": {
      "text/plain": [
       "<Figure size 1000x600 with 1 Axes>"
      ],
      "image/png": "[encoded data removed]"
     },
     "metadata": {},
     "output_type": "display_data"
    }
   ],
   "execution_count": 16
  }
 ],
 "metadata": {
  "kernelspec": {
   "display_name": "Python 3",
   "language": "python",
   "name": "python3"
  },
  "language_info": {
   "codemirror_mode": {
    "name": "ipython",
    "version": 2
   },
   "file_extension": ".py",
   "mimetype": "text/x-python",
   "name": "python",
   "nbconvert_exporter": "python",
   "pygments_lexer": "ipython2",
   "version": "2.7.6"
  }
 },
 "nbformat": 4,
 "nbformat_minor": 5
}
